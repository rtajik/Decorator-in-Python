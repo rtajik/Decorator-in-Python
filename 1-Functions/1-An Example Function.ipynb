{
 "cells": [
  {
   "cell_type": "code",
   "execution_count": null,
   "id": "12bcc4a3",
   "metadata": {},
   "outputs": [
    {
     "name": "stdout",
     "output_type": "stream",
     "text": [
      "Hello my friend\n",
      "Hello dear jimmy\n",
      "get a number\n",
      "0\n",
      "The number is even.\n",
      "get a number\n",
      "get a number\n",
      "2\n",
      "The number is even.\n",
      "get a number\n",
      "get a number\n",
      "4\n",
      "The number is even.\n",
      "get a number\n",
      "get a number\n",
      "6\n",
      "The number is even.\n",
      "get a number\n",
      "get a number\n",
      "8\n",
      "The number is even.\n",
      "get a number\n"
     ]
    }
   ],
   "source": [
    "def even_check(num): # Header\n",
    "    '''\n",
    "    This function takes a number as input,\n",
    "    and if the number is even, it prints it.\n",
    "    If the number is odd, it does nothing. \n",
    "    '''\n",
    "    if num%2==0:                        # Statement\n",
    "        print(num)            \n",
    "        return num                     # Return Statement \n",
    "        \n",
    "def hi(): # Header\n",
    "    '''\n",
    "    An example of a function that does not require any input parameters.\n",
    "    '''\n",
    "    print(\"Hello my friend\") # Statement\n",
    "        \n",
    "def hello(name): # Header\n",
    "    print(f\"Hello dear {name}\") # Statement\n",
    "        \n",
    "hi()                                # Function Call\n",
    "hello(\"jimmy\")                      # Function Call \n",
    "\n",
    "for i in range(10):\n",
    "    even_check(i)                  # Function Call\n",
    "    "
   ]
  },
  {
   "cell_type": "code",
   "execution_count": null,
   "id": "c5a29cf4",
   "metadata": {},
   "outputs": [],
   "source": []
  }
 ],
 "metadata": {
  "kernelspec": {
   "display_name": "SignalProcessing-env-3-13-7",
   "language": "python",
   "name": "python3"
  },
  "language_info": {
   "codemirror_mode": {
    "name": "ipython",
    "version": 3
   },
   "file_extension": ".py",
   "mimetype": "text/x-python",
   "name": "python",
   "nbconvert_exporter": "python",
   "pygments_lexer": "ipython3",
   "version": "3.13.7"
  }
 },
 "nbformat": 4,
 "nbformat_minor": 5
}
